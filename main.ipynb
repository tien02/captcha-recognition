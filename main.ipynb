{
 "cells": [
  {
   "cell_type": "code",
   "execution_count": null,
   "metadata": {},
   "outputs": [],
   "source": [
    "import os\n",
    "import src\n",
    "from lightning.pytorch import Trainer, seed_everything\n",
    "from lightning.pytorch.loggers.tensorboard import TensorBoardLogger\n",
    "from lightning.pytorch.callbacks import ModelCheckpoint, EarlyStopping"
   ]
  },
  {
   "cell_type": "code",
   "execution_count": null,
   "metadata": {},
   "outputs": [],
   "source": [
    "class config:\n",
    "    SEED = 42\n",
    "    ACCELERATOR = \"cpu\"\n",
    "\n",
    "    # Trainer\n",
    "    \n",
    "    EPOCHS = 200\n",
    "    BATCH_SIZE = 4\n",
    "    VAL_EACH_EPOCH = 2\n",
    "    LEARNING_RATE = 1e-4\n",
    "    ENCODER_FEATURE_DIM = 256\n",
    "\n",
    "    # Data\n",
    "    DATA_DIR = \"./data1\"\n",
    "\n",
    "    # Tensorboard\n",
    "    TENSORBOARD = {\n",
    "        \"DIR\": \"\",\n",
    "        \"NAME\": \"LOG\",\n",
    "        \"VERSION\": \"0\",\n",
    "    }\n",
    "\n",
    "    # Checkpoint\n",
    "    CHECKPOINT_DIR = os.path.join(TENSORBOARD[\"DIR\"], TENSORBOARD[\"NAME\"], TENSORBOARD[\"VERSION\"], \"CKPT\")\n",
    "\n",
    "    # ckpt path to test model\n",
    "    TEST_CKPT_PATH = None\n",
    "\n",
    "    # ckpt path to continue training\n",
    "    CONTINUE_TRAINING = None"
   ]
  },
  {
   "cell_type": "code",
   "execution_count": null,
   "metadata": {},
   "outputs": [],
   "source": [
    "seed_everything(config.SEED)\n",
    "\n",
    "dm = src.CaptchaDataModule(data_dir=config.DATA_DIR, batch_size=config.BATCH_SIZE)\n",
    "\n",
    "model = src.CRNN(hidden_size=config.ENCODER_FEATURE_DIM, out_channels=config.ENCODER_FEATURE_DIM)\n",
    "system = src.OCRTrainer(model, learning_rate=config.LEARNING_RATE)\n",
    "\n",
    "checkpoint_callback = ModelCheckpoint(dirpath= config.CHECKPOINT_DIR, monitor=\"val_loss\", save_top_k=3, mode=\"min\")\n",
    "early_stopping = EarlyStopping(monitor=\"val_loss\", mode=\"min\")\n",
    "\n",
    "logger = TensorBoardLogger(save_dir=config.TENSORBOARD[\"DIR\"], name=config.TENSORBOARD[\"NAME\"], version=config.TENSORBOARD[\"VERSION\"])\n",
    "\n",
    "trainer = Trainer(accelerator=config.ACCELERATOR, check_val_every_n_epoch=config.VAL_EACH_EPOCH,\n",
    "                gradient_clip_val=1.0,max_epochs=config.EPOCHS,\n",
    "                enable_checkpointing=True, deterministic=True, default_root_dir=config.CHECKPOINT_DIR,\n",
    "                callbacks=[checkpoint_callback, early_stopping], logger=logger, accumulate_grad_batches=5, log_every_n_steps=10)\n",
    "\n",
    "trainer.fit(model=system, datamodule=dm, ckpt_path=config.CONTINUE_TRAINING)"
   ]
  },
  {
   "cell_type": "code",
   "execution_count": null,
   "metadata": {},
   "outputs": [],
   "source": []
  },
  {
   "cell_type": "code",
   "execution_count": null,
   "metadata": {},
   "outputs": [],
   "source": []
  }
 ],
 "metadata": {
  "kernelspec": {
   "display_name": "base",
   "language": "python",
   "name": "python3"
  },
  "language_info": {
   "codemirror_mode": {
    "name": "ipython",
    "version": 3
   },
   "file_extension": ".py",
   "mimetype": "text/x-python",
   "name": "python",
   "nbconvert_exporter": "python",
   "pygments_lexer": "ipython3",
   "version": "3.10.6"
  },
  "orig_nbformat": 4
 },
 "nbformat": 4,
 "nbformat_minor": 2
}
